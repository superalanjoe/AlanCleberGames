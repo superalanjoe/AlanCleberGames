{
  "nbformat": 4,
  "nbformat_minor": 0,
  "metadata": {
    "colab": {
      "provenance": [],
      "authorship_tag": "ABX9TyMz7B1IwkEJN/AH2JgLrDts",
      "include_colab_link": true
    },
    "kernelspec": {
      "name": "python3",
      "display_name": "Python 3"
    },
    "language_info": {
      "name": "python"
    }
  },
  "cells": [
    {
      "cell_type": "markdown",
      "metadata": {
        "id": "view-in-github",
        "colab_type": "text"
      },
      "source": [
        "<a href=\"https://colab.research.google.com/github/superalanjoe/AlanCleberGames/blob/main/aula_6.ipynb\" target=\"_parent\"><img src=\"https://colab.research.google.com/assets/colab-badge.svg\" alt=\"Open In Colab\"/></a>"
      ]
    },
    {
      "cell_type": "markdown",
      "source": [
        "match\n",
        "for (lado de repeeticao)\n",
        "while (laço de repeticao)\n"
      ],
      "metadata": {
        "id": "d44K-47JRQCp"
      }
    },
    {
      "cell_type": "code",
      "source": [
        "cor = \"azul\"\n",
        "\n",
        "match cor:\n",
        "    case \"vermelho\":\n",
        "        print(\"a cor é vermelha\")\n",
        "    case \"azul\":\n",
        "        print(\"a cor é azul\")\n",
        "    case \"verde\":\n",
        "        print(\"a cor é verde\")\n",
        "    case _:  # default\n",
        "        print(\"cor desconhecida\")\n",
        "\n",
        "\n",
        "\n",
        "pessoa = {\n",
        "    \"nome\":\"Alan Cleber\",\n",
        "    \"idade\": \"34\",\n",
        "    \"cidade\": \"São Paulo\"\n",
        "\n",
        "}\n",
        "\n",
        "match pessoa:\n",
        "  case{\"nome\": nome, \"idade\": idade, \"cidade\": cidade}:\n",
        "    print(f\"{nome} tem {idade} anos e mora em {cidade}\")\n",
        "\n",
        "\n"
      ],
      "metadata": {
        "colab": {
          "base_uri": "https://localhost:8080/"
        },
        "id": "cOSCSjdhcG5O",
        "outputId": "7c76659e-8339-426d-eb8e-ae32c548d880"
      },
      "execution_count": 6,
      "outputs": [
        {
          "output_type": "stream",
          "name": "stdout",
          "text": [
            "a cor é azul\n",
            "Alan Cleber tem 34 anos e mora em São Paulo\n"
          ]
        }
      ]
    },
    {
      "cell_type": "markdown",
      "source": [
        "for (lado de repeeticao) executa um bloco de codigos n vezes\n"
      ],
      "metadata": {
        "id": "XqA3dllzhOwr"
      }
    },
    {
      "cell_type": "code",
      "source": [
        "frutas = [\"maca\", \"banana\", \"laranja\"]\n",
        "\n",
        "print(frutas[0])\n",
        "\n",
        "for fruta in frutas:\n",
        "  print(fruta)\n",
        "\n",
        "\n",
        "for numero in [1,2,9]:\n",
        "  print(numero)\n",
        "\n",
        "  #print(range(0))\n",
        "\n",
        "for numero1 in range(0, 6): #[1,2,3]\n",
        "    print(numero1)\n",
        "\n",
        "\n",
        "pessoa = {\n",
        "    \"nome\":\"Alan Cleber\",\n",
        "    \"idade\": \"34\",\n",
        "    \"cidade\": \"São Paulo\"\n",
        "\n",
        "}\n",
        "\n",
        "print(pessoa.items())\n",
        "\n",
        "for chave, valor in pessoa.items():\n",
        "  print(F'ropriedade:{chave} \\nvalor: {pessoa[chave]}')\n",
        "\n",
        "\n",
        "lista_numeros = [21,5,69,30]\n",
        "soma = 0\n",
        "for numero in lista_numeros:\n",
        "  soma+= numero\n",
        "  print(soma)\n",
        "\n",
        "  print(f\"A soma dos numeros é: {soma}\")\n",
        "\n",
        "contador = 1\n",
        "soma = 0\n",
        "lista_numeros = [1, 2, 3, 4, 5]  # Definindo a lista para exemplo\n",
        "\n",
        "for numero in lista_numeros:\n",
        "    soma += numero\n",
        "    print(f\"Contador {contador}: soma = {soma}\")\n",
        "    contador += 1\n",
        "\n",
        "\n",
        "matriz = [[1, 2, 3], [4, 5, 6], [7, 8, 9]]\n",
        "\n",
        "for linha in matriz:\n",
        "    print(linha)\n",
        "    for elemento in linha:\n",
        "      print(elemento)"
      ],
      "metadata": {
        "colab": {
          "base_uri": "https://localhost:8080/"
        },
        "id": "vEgom4jEhSKS",
        "outputId": "5e8bdc4d-fd4f-47d8-c275-9c0e3342b6f5"
      },
      "execution_count": 35,
      "outputs": [
        {
          "output_type": "stream",
          "name": "stdout",
          "text": [
            "maca\n",
            "maca\n",
            "banana\n",
            "laranja\n",
            "1\n",
            "2\n",
            "9\n",
            "0\n",
            "1\n",
            "2\n",
            "3\n",
            "4\n",
            "5\n",
            "dict_items([('nome', 'Alan Cleber'), ('idade', '34'), ('cidade', 'São Paulo')])\n",
            "ropriedade:nome \n",
            "valor: Alan Cleber\n",
            "ropriedade:idade \n",
            "valor: 34\n",
            "ropriedade:cidade \n",
            "valor: São Paulo\n",
            "21\n",
            "A soma dos numeros é: 21\n",
            "26\n",
            "A soma dos numeros é: 26\n",
            "95\n",
            "A soma dos numeros é: 95\n",
            "125\n",
            "A soma dos numeros é: 125\n",
            "Contador 1: soma = 1\n",
            "Contador 2: soma = 3\n",
            "Contador 3: soma = 6\n",
            "Contador 4: soma = 10\n",
            "Contador 5: soma = 15\n",
            "[1, 2, 3]\n",
            "1\n",
            "2\n",
            "3\n",
            "[4, 5, 6]\n",
            "4\n",
            "5\n",
            "6\n",
            "[7, 8, 9]\n",
            "7\n",
            "8\n",
            "9\n"
          ]
        }
      ]
    },
    {
      "cell_type": "markdown",
      "source": [
        "while (laço de repeticao)\n"
      ],
      "metadata": {
        "id": "PHV_Z9_Bt8x6"
      }
    },
    {
      "cell_type": "code",
      "source": [
        "for numero in range(1,15):\n",
        "  print(numero)\n",
        "  if numero % 7 ==0:\n",
        "    break\n",
        "\n",
        "\n",
        "\n",
        "contador = 1\n",
        "while contador <= 5:\n",
        "  print(contador)\n",
        "  contador += 1\n",
        "\n",
        "while True:\n",
        "    entrada = int(input(\"Digite um número entre 1 e 10: \"))\n",
        "    if entrada < 1 or entrada > 10:\n",
        "        print(\"Número inválido. Por favor, digite um número entre 1 e 10.\")\n",
        "        break"
      ],
      "metadata": {
        "colab": {
          "base_uri": "https://localhost:8080/"
        },
        "id": "ivoFpkhDuBfp",
        "outputId": "42d85844-3f6a-4cdc-b3ab-4f6a2a26b7ef"
      },
      "execution_count": 45,
      "outputs": [
        {
          "output_type": "stream",
          "name": "stdout",
          "text": [
            "1\n",
            "2\n",
            "3\n",
            "4\n",
            "5\n",
            "6\n",
            "7\n",
            "1\n",
            "2\n",
            "3\n",
            "4\n",
            "5\n",
            "Digite um número entre 1 e 10: 5\n",
            "Digite um número entre 1 e 10: 1\n",
            "Digite um número entre 1 e 10: 3\n",
            "Digite um número entre 1 e 10: 2\n",
            "Digite um número entre 1 e 10: 6\n",
            "Digite um número entre 1 e 10: 7\n",
            "Digite um número entre 1 e 10: 9\n",
            "Digite um número entre 1 e 10: 10\n",
            "Digite um número entre 1 e 10: 11\n",
            "Número inválido. Por favor, digite um número entre 1 e 10.\n"
          ]
        }
      ]
    },
    {
      "cell_type": "markdown",
      "source": [
        "projeto\n"
      ],
      "metadata": {
        "id": "SxOw0HCzzIfS"
      }
    },
    {
      "cell_type": "code",
      "source": [
        "import os\n",
        "\n",
        "while True:\n",
        "    print(\"\"\"CRUD\n",
        "    1 - Cadastro\n",
        "    2 - Listar\n",
        "    3 - Atualizar\n",
        "    4 - Deletar\n",
        "    5 - Sair\n",
        "    6 - Limpar tela\n",
        "    \"\"\")\n",
        "    opcao = input(\"Selecione uma opção: \")\n",
        "\n",
        "    match opcao:\n",
        "        case \"1\":\n",
        "            print(\"Cadastrar produto\")\n",
        "        case \"2\":\n",
        "            print(\"Listar produtos\")\n",
        "        case \"3\":\n",
        "            print(\"Atualizar produto\")\n",
        "        case \"4\":\n",
        "            print(\"Deletar produto\")\n",
        "        case \"5\":\n",
        "            print(\"Obrigado, volte sempre que precisar!\")\n",
        "            break\n",
        "        case \"6\":\n",
        "            os.system('cls' if os.name == 'nt' else 'clear')  # Limpa a tela\n",
        "        case _:\n",
        "            print(\"Opção inválida. Tente novamente.\")"
      ],
      "metadata": {
        "colab": {
          "base_uri": "https://localhost:8080/"
        },
        "id": "xQ1qGce8zJf8",
        "outputId": "53919798-ecf9-413c-c960-a92855a5cd01"
      },
      "execution_count": null,
      "outputs": [
        {
          "output_type": "stream",
          "name": "stdout",
          "text": [
            "CRUD \n",
            "    1 - Cadastro\n",
            "    2 - Listar\n",
            "    3 - Atualizar\n",
            "    4 - Deletar\n",
            "    5 - Sair\n",
            "    6 - Limpar tela\n",
            "    \n",
            "Selecione uma opção: 6\n",
            "CRUD \n",
            "    1 - Cadastro\n",
            "    2 - Listar\n",
            "    3 - Atualizar\n",
            "    4 - Deletar\n",
            "    5 - Sair\n",
            "    6 - Limpar tela\n",
            "    \n",
            "Selecione uma opção: 1\n",
            "Cadastrar produto\n",
            "CRUD \n",
            "    1 - Cadastro\n",
            "    2 - Listar\n",
            "    3 - Atualizar\n",
            "    4 - Deletar\n",
            "    5 - Sair\n",
            "    6 - Limpar tela\n",
            "    \n",
            "Selecione uma opção: 2\n",
            "Listar produtos\n",
            "CRUD \n",
            "    1 - Cadastro\n",
            "    2 - Listar\n",
            "    3 - Atualizar\n",
            "    4 - Deletar\n",
            "    5 - Sair\n",
            "    6 - Limpar tela\n",
            "    \n",
            "Selecione uma opção: 6\n",
            "CRUD \n",
            "    1 - Cadastro\n",
            "    2 - Listar\n",
            "    3 - Atualizar\n",
            "    4 - Deletar\n",
            "    5 - Sair\n",
            "    6 - Limpar tela\n",
            "    \n"
          ]
        }
      ]
    }
  ]
}